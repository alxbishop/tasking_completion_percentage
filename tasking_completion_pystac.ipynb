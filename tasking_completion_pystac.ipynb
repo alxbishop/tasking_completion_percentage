{
 "cells": [
  {
   "cell_type": "markdown",
   "metadata": {},
   "source": [
    "### Tasking completion notebook\n",
    "This script is meant to be used on tasking orders in status \"BEING FULFILLED\" with a \"Polygon\" geometry input type. It is for repetitive tasking orders which can not leverage the existing API Get coverage of order assets end point.\n",
    "\n",
    "The logic:\n",
    "\n",
    " - Find active tasking orders in your account (can fine tune to a specific workspace if needed) using 'Tags'\n",
    " - Extract the order id, the input AOI geometry and compute in the input AOI surface area\n",
    " - Use the order id to find delivered assets\n",
    " - Compute delivered assets coverage area in km2, compute coverage percentage."
   ]
  },
  {
   "cell_type": "markdown",
   "metadata": {},
   "source": [
    "### Libraries"
   ]
  },
  {
   "cell_type": "code",
   "execution_count": 154,
   "metadata": {},
   "outputs": [],
   "source": [
    "import up42\n",
    "import geopandas as gpd\n",
    "import pandas as pd\n",
    "from shapely.geometry import Polygon\n",
    "from shapely.ops import unary_union"
   ]
  },
  {
   "cell_type": "markdown",
   "metadata": {},
   "source": [
    "### Learn - step by step"
   ]
  },
  {
   "cell_type": "code",
   "execution_count": null,
   "metadata": {},
   "outputs": [],
   "source": [
    "up42.authenticate('../../../central_creds/credentials.json')\n",
    "storage = up42.initialize_storage()"
   ]
  },
  {
   "cell_type": "markdown",
   "metadata": {},
   "source": [
    "#### Find active tasking orders\n"
   ]
  },
  {
   "cell_type": "markdown",
   "metadata": {},
   "source": [
    "Extract geometry and order id from active order using tags."
   ]
  },
  {
   "cell_type": "code",
   "execution_count": null,
   "metadata": {},
   "outputs": [],
   "source": [
    "# my active orders\n",
    "\n",
    "orders = storage.get_orders(workspace_orders=False,\n",
    "                            order_type='TASKING',\n",
    "                            statuses=['BEING_FULFILLED'],\n",
    "                            limit=5,\n",
    "                            tags=['cs_tag'])"
   ]
  },
  {
   "cell_type": "code",
   "execution_count": null,
   "metadata": {},
   "outputs": [],
   "source": [
    "order_ids_list = [order.order_id for order in orders]\n",
    "order_ids_list"
   ]
  },
  {
   "cell_type": "code",
   "execution_count": 219,
   "metadata": {},
   "outputs": [],
   "source": [
    "order_info = orders[0].info\n",
    "# order_info"
   ]
  },
  {
   "cell_type": "code",
   "execution_count": 220,
   "metadata": {},
   "outputs": [],
   "source": [
    "tasking_geometry = orders[0].order_details['geometry']\n",
    "# tasking_geometry\n",
    "\n",
    "# Create the Polygon from coordinates\n",
    "polygon = Polygon(tasking_geometry['coordinates'][0])\n"
   ]
  },
  {
   "cell_type": "code",
   "execution_count": null,
   "metadata": {},
   "outputs": [],
   "source": [
    "order_dataframe = gpd.GeoDataFrame([[order_info['id'], order_info['status'], order_info['tags'], polygon]],\n",
    "                 columns=['order_id', 'status', 'tags', 'geometry'],\n",
    "                 crs='EPSG:4326')\n",
    "order_dataframe"
   ]
  },
  {
   "cell_type": "code",
   "execution_count": 167,
   "metadata": {},
   "outputs": [],
   "source": [
    "best_utm_zone = order_dataframe.estimate_utm_crs()\n",
    "# best_utm_zone"
   ]
  },
  {
   "cell_type": "code",
   "execution_count": 170,
   "metadata": {},
   "outputs": [],
   "source": [
    "order_dataframe_utm = order_dataframe.to_crs(best_utm_zone)\n",
    "# order_dataframe_utm"
   ]
  },
  {
   "cell_type": "code",
   "execution_count": null,
   "metadata": {},
   "outputs": [],
   "source": [
    "order_dataframe_utm_area = order_dataframe_utm.area/1000000\n",
    "order_dataframe_utm['aoi_area_km'] = round(order_dataframe_utm_area,2)\n",
    "order_dataframe_utm"
   ]
  },
  {
   "cell_type": "markdown",
   "metadata": {},
   "source": [
    "#### Delivered data in storage"
   ]
  },
  {
   "cell_type": "markdown",
   "metadata": {},
   "source": [
    "Find delivered data using the order id, acquisition dates and cloud cover"
   ]
  },
  {
   "cell_type": "code",
   "execution_count": 193,
   "metadata": {},
   "outputs": [],
   "source": [
    "start_date = \"2022-06-01\"\n",
    "end_date = \"2023-06-15\"\n",
    "order_id = order_info['id']\n",
    "cloud_cover = 50"
   ]
  },
  {
   "cell_type": "code",
   "execution_count": 194,
   "metadata": {},
   "outputs": [],
   "source": [
    "pystac_client = storage.pystac_client\n",
    "\n",
    "custom_filter = {\n",
    "    \"op\":\"and\", \"args\":[\n",
    "    {\"op\": \"<\",\"args\": [{\"property\": \"eo:cloud_cover\"}, cloud_cover]},\n",
    "    {\"op\": \"=\",\"args\": [{\"property\": \"order_id\"},order_id]},\n",
    "    {\"op\": \"t_overlaps\",\"args\": [{\"property\": \"datetime\"},{\"interval\": [start_date, end_date]}]}\n",
    "  ]\n",
    "}\n",
    "\n",
    "assets_search = pystac_client.search(filter=custom_filter, filter_lang='cql2-json')\n"
   ]
  },
  {
   "cell_type": "code",
   "execution_count": 195,
   "metadata": {},
   "outputs": [],
   "source": [
    "assets = assets_search.get_all_items()"
   ]
  },
  {
   "cell_type": "code",
   "execution_count": null,
   "metadata": {},
   "outputs": [],
   "source": [
    "delivered_assets_geom_list = [Polygon(asset.geometry['coordinates'][0]) for asset in assets]\n",
    "delivered_assets_geom_list"
   ]
  },
  {
   "cell_type": "code",
   "execution_count": null,
   "metadata": {},
   "outputs": [],
   "source": [
    "merged_delivered_assets_geoms = unary_union(delivered_assets_geom_list)\n",
    "merged_delivered_assets_geoms"
   ]
  },
  {
   "cell_type": "code",
   "execution_count": null,
   "metadata": {},
   "outputs": [],
   "source": [
    "delivered_assets_dt = gpd.GeoDataFrame(geometry=[merged_delivered_assets_geoms], crs='EPSG:4326')\n",
    "delivered_assets_dt.estimate_utm_crs()\n",
    "delivered_assets_dt_utm = delivered_assets_dt.to_crs(best_utm_zone)\n",
    "delivered_assets_dt_utm"
   ]
  },
  {
   "cell_type": "code",
   "execution_count": null,
   "metadata": {},
   "outputs": [],
   "source": [
    "order_summary = order_dataframe_utm\n",
    "order_summary['delivered_area_km'] = round(delivered_assets_dt_utm.area/1000000, 2)\n",
    "order_summary['delivered_%'] = round(order_summary['delivered_area_km']*100/order_summary['aoi_area_km'], 2)\n",
    "order_summary"
   ]
  },
  {
   "cell_type": "markdown",
   "metadata": {},
   "source": [
    "#### Automated"
   ]
  },
  {
   "cell_type": "code",
   "execution_count": null,
   "metadata": {},
   "outputs": [],
   "source": [
    "up42.authenticate('../../../central_creds/credentials.json')\n",
    "storage = up42.initialize_storage()\n",
    "\n",
    "# Search filter parameters - define these as needed\n",
    "start_date = \"2022-06-01\"\n",
    "end_date = \"2023-06-15\"\n",
    "cloud_cover = 50\n",
    "\n",
    "# Find orders - modify or remove the tags as needed\n",
    "orders = storage.get_orders(workspace_orders=False,\n",
    "                            order_type='TASKING',\n",
    "                            statuses=['BEING_FULFILLED'],\n",
    "                            limit=50,\n",
    "                            tags=['pastis', 'cs_tag'])\n",
    "\n",
    "\n",
    "# Build order id list\n",
    "order_ids_list = [order.order_id for order in orders]\n",
    "\n",
    "all_delivered_assets_extents = gpd.GeoDataFrame()\n",
    "all_order_summaries = gpd.GeoDataFrame()\n",
    "\n",
    "for num, order_id in enumerate(order_ids_list):\n",
    "\n",
    "    print(f'Working on order {order_id}')\n",
    "\n",
    "    # Extract order information\n",
    "    order_info = orders[num].info\n",
    "\n",
    "    # Etract the AOI for this order\n",
    "    tasking_geometry = orders[num].order_details['geometry']\n",
    "\n",
    "    # Create the Polygon from coordinates\n",
    "    polygon = Polygon(tasking_geometry['coordinates'][0])\n",
    "\n",
    "    # Create dataframe for the order\n",
    "    order_dataframe = gpd.GeoDataFrame([[order_info['id'], order_info['status'], order_info['tags'], polygon]],\n",
    "                    columns=['order_id', 'status', 'tags', 'geometry'],\n",
    "                    crs='EPSG:4326')\n",
    "\n",
    "    # Estimate the best UTM zone\n",
    "    best_utm_zone = order_dataframe.estimate_utm_crs()\n",
    "\n",
    "    # Convert dataframe to UTM\n",
    "    order_dataframe_utm = order_dataframe.to_crs(best_utm_zone)\n",
    "\n",
    "    # Compute the tasking aoi area size\n",
    "    order_dataframe_utm_area = order_dataframe_utm.area/1000000\n",
    "    order_dataframe_utm['aoi_area_km'] = round(order_dataframe_utm_area,2)\n",
    "\n",
    "    # Find delivered data/assets in storage that correspond to this order\n",
    "    print(' - Searching assets for order...')\n",
    "    # assets = storage.get_assets(search=order_id)\n",
    "\n",
    "    pystac_client = storage.pystac_client\n",
    "    custom_filter = {\n",
    "        \"op\":\"and\", \"args\":[\n",
    "        {\"op\": \"<\",\"args\": [{\"property\": \"eo:cloud_cover\"}, cloud_cover]},\n",
    "        {\"op\": \"=\",\"args\": [{\"property\": \"order_id\"},order_id]},\n",
    "        {\"op\": \"t_overlaps\",\"args\": [{\"property\": \"datetime\"},{\"interval\": [start_date, end_date]}]}\n",
    "        ]\n",
    "    }\n",
    "    assets_search = pystac_client.search(filter=custom_filter, filter_lang='cql2-json')\n",
    "    assets = assets_search.get_all_items()\n",
    "    \n",
    "    if len(assets) > 0:\n",
    "\n",
    "        # Place the assets geometries into a list and merge then together\n",
    "        delivered_assets_geom_list = [Polygon(asset.geometry['coordinates'][0]) for asset in assets]\n",
    "        merged_delivered_assets_geoms = unary_union(delivered_assets_geom_list)\n",
    "\n",
    "        # Create delivered assets dataframe and convert to UTM\n",
    "        delivered_assets_dt = gpd.GeoDataFrame(geometry=[merged_delivered_assets_geoms], crs='EPSG:4326')\n",
    "        delivered_assets_dt.estimate_utm_crs()\n",
    "        delivered_assets_dt_utm = delivered_assets_dt.to_crs(best_utm_zone)\n",
    "\n",
    "        all_delivered_assets_extents = pd.concat([all_delivered_assets_extents,delivered_assets_dt])\n",
    "\n",
    "        # Create an order summary dataframe with coverage percentage for the order\n",
    "        order_summary = order_dataframe_utm\n",
    "        order_summary['delivered_area_km'] = round(delivered_assets_dt_utm.area/1000000, 2)\n",
    "        order_summary['delivered_%'] = round(order_summary['delivered_area_km']*100/order_summary['aoi_area_km'], 2)\n",
    "        completion_percentage = order_summary['delivered_%'].values[0]\n",
    "        print(f' - {completion_percentage}% complete')\n",
    "\n",
    "        all_order_summaries = pd.concat([all_order_summaries, order_summary.to_crs('EPSG:4326')], ignore_index=True)\n",
    "    \n",
    "    else:\n",
    "        print(f' - No assets delivered yet for order: {order_id}')\n",
    "        continue\n",
    "\n",
    "all_order_summaries"
   ]
  },
  {
   "cell_type": "code",
   "execution_count": null,
   "metadata": {},
   "outputs": [],
   "source": [
    "import folium\n",
    "\n",
    "m = folium.Map(location=(0, 0), zoom_start = 2)\n",
    "folium.GeoJson(data=all_order_summaries).add_to(m)\n",
    "folium.GeoJson(data=all_delivered_assets_extents, color='Red').add_to(m)\n",
    "m\n"
   ]
  },
  {
   "cell_type": "code",
   "execution_count": null,
   "metadata": {},
   "outputs": [],
   "source": [
    "order_dataframe"
   ]
  },
  {
   "cell_type": "code",
   "execution_count": null,
   "metadata": {},
   "outputs": [],
   "source": []
  }
 ],
 "metadata": {
  "kernelspec": {
   "display_name": "py310",
   "language": "python",
   "name": "python3"
  },
  "language_info": {
   "codemirror_mode": {
    "name": "ipython",
    "version": 3
   },
   "file_extension": ".py",
   "mimetype": "text/x-python",
   "name": "python",
   "nbconvert_exporter": "python",
   "pygments_lexer": "ipython3",
   "version": "3.10.13"
  }
 },
 "nbformat": 4,
 "nbformat_minor": 2
}
